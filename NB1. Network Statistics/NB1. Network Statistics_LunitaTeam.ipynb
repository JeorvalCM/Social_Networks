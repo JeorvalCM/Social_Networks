{
 "cells": [
  {
   "cell_type": "markdown",
   "metadata": {},
   "source": [
    "# Lunita's Team:\n",
    "\n",
    "* Cano Jeorval\n",
    "* Cuevas Danilo\n",
    "* Erosa Jorge\n",
    "* Hernandez Andrés\n",
    "* Robles Jack"
   ]
  },
  {
   "cell_type": "markdown",
   "metadata": {},
   "source": [
    "# NB1. Network Statistics\n",
    "\n",
    "Consider the following networks:\n",
    "\n",
    "* **Facebook Northwester University**(socfb-Northwestern25.edges.gz). Network of Facebook users at Northwestern University. Nodes represent people, and links stand for Facebook friend connections.\n",
    "* **US air transportation** (openflights_usa.edges.gz). The US air transportation network using flight data from OpenFlights.org. Nodes represent airports, and links stand for connections between them.\n",
    "* **Twitter USA Politics**(retweet-digraph.edges.gz). Retweet directed network with weigtht on Twitter, among people sharing posts about US politics. Links represent retweets of posts that used different hashtags (#tcot, #p2). The direction of the link from user A to B indicates that a message has propagated from A to B."
   ]
  },
  {
   "cell_type": "code",
   "execution_count": 1,
   "metadata": {},
   "outputs": [],
   "source": [
    "import itertools\n",
    "import networkx as nx\n",
    "import numpy as np\n",
    "import pandas as pd\n",
    "import matplotlib.pyplot as plt\n",
    "from tabulate import tabulate"
   ]
  },
  {
   "cell_type": "markdown",
   "metadata": {},
   "source": [
    "## Task 1\n",
    "Create a table including the following characteristics for each network:\n",
    "* Number of Nodes $N$.\n",
    "* Number of Links $L$.\n",
    "* Density $d$.\n",
    "* Average Degree $\\langle k\\rangle $. \n",
    "* Clustering Coefficient $C_C$. \n",
    "    \n",
    "Consider the following observations:\n",
    "* In the case of undirected networks, compute the average in-degree.\n",
    "* In the case of undirected networks, compute the clustering coefficient without taking into account the directions of the edges. In NetworkX it is possible to use the ``` G.to_undirected() ``` method to return an undirected copy of a graph G.\n"
   ]
  },
  {
   "cell_type": "code",
   "execution_count": 2,
   "metadata": {},
   "outputs": [],
   "source": [
    "networks = ['Networks/socfb-Northwestern25.edgelist', 'Networks/openflights_usa.edges', 'Networks/retweet-digraph.edges']\n",
    "\n",
    "\n",
    "G_fb = nx.read_edgelist(networks[0])\n",
    "G_airports = nx.read_edgelist(networks[1])\n",
    "G_twitter = nx.read_edgelist(networks[2], edgetype = float, data=((\"weight\", float),), create_using= nx.DiGraph())"
   ]
  },
  {
   "cell_type": "code",
   "execution_count": 3,
   "metadata": {},
   "outputs": [],
   "source": [
    "network_names = ['Facebook Northwester University', 'US air transportation', 'Twitter USA Politics']\n",
    "\n",
    "values_dict = dict()\n",
    "\n",
    "for name, graph in zip(network_names, [G_fb, G_airports, G_twitter]):\n",
    "    N = len(graph)\n",
    "    \n",
    "    L = graph.number_of_edges()\n",
    "    \n",
    "    d = nx.classes.function.density(graph) \n",
    "    \n",
    "    if nx.is_directed(graph):\n",
    "        #weight\n",
    "        degrees = np.array(list(graph.degree(weight = 'weight')))\n",
    "        k = np.mean(degrees[:,1].astype(float))\n",
    "        \n",
    "        copy = graph.to_undirected()\n",
    "        Cc = nx.algorithms.cluster.average_clustering(copy, weight = 'weight')\n",
    "        \n",
    "    else:\n",
    "        degrees = np.array(list(graph.degree))\n",
    "        k = np.mean(degrees[:,1].astype(float))\n",
    "        \n",
    "        Cc = nx.algorithms.cluster.average_clustering(graph)\n",
    "        \n",
    "    values_dict[name] = {'Number of nodes': N, 'Number of links': L, 'density': d, 'Average degree': k, 'Cluster coefficient': Cc}"
   ]
  },
  {
   "cell_type": "code",
   "execution_count": 4,
   "metadata": {},
   "outputs": [
    {
     "name": "stdout",
     "output_type": "stream",
     "text": [
      "|                                 |   Number of nodes |   Number of links |     density |   Average degree |   Cluster coefficient |\n",
      "|:--------------------------------|------------------:|------------------:|------------:|-----------------:|----------------------:|\n",
      "| Facebook Northwester University |             10567 |            488337 | 0.00874757  |         92.4268  |           0.237991    |\n",
      "| US air transportation           |               546 |              2781 | 0.0186914   |         10.1868  |           0.493045    |\n",
      "| Twitter USA Politics            |             18470 |             48365 | 0.000141782 |          6.62231 |           0.000442431 |\n"
     ]
    }
   ],
   "source": [
    "df = pd.DataFrame(values_dict).T\n",
    "\n",
    "# displaying the DataFrame\n",
    "print(tabulate(df, headers = 'keys', tablefmt = 'pipe'))"
   ]
  },
  {
   "cell_type": "markdown",
   "metadata": {},
   "source": [
    "The average shortest-path length is a common aggregate distance measure for Networks. It can be obtained by averaging the shortest-path lengths across all pairs of nodes. The definition of this distance-based measure assume that the shortest-path length is defined for each pair of nodes. If there is any pairs without a path, then the the average path length is not defined. One way to present this result is by measuring only on the giant component; for the directed network it is possible to consider directed paths in the giants strongly connected component. However, due to the number of possible pairs of nodes, the computing of the average shortest-path length can be computational extensive.\n",
    "\n",
    "## Task 2\n",
    "Create a function ``` average_path_length_sample(G, N_sample)``` to compute the average path length on a Network. The function must identify if the network is directed or not.  The following method can be useful: ``` G.is_directed()```. In the case of directed networks it should use the strongly connected component to compute it. On the other hand, if the network is undirected, it should use the giang connected component of the network. \n",
    "\n",
    "In order to compute the average path length on a sample. Make a sample of ```N_sample``` randomly chosen nodes on the connected component and compute the average path length using it.\n",
    "\n",
    "The function must input ```G```a Network and ```N_sample```the number of nodes to be considered in the sample and output the average path length.\n",
    "\n",
    "Compute the average path length of the three given networks and add them into the table using ```N_sample=1000```."
   ]
  },
  {
   "cell_type": "code",
   "execution_count": 5,
   "metadata": {},
   "outputs": [],
   "source": [
    "def average_path_length_sample(G, N_sample = 1000):\n",
    "    \"\"\"\n",
    "    Function to copute the average path length of sample on a given graph \n",
    "    \n",
    "    G: object graph\n",
    "    \n",
    "    N_sample: Number of nodes to select\n",
    "    \"\"\"\n",
    "    if G.is_directed():\n",
    "        strongly_connected_component = max(nx.strongly_connected_components(G), key=len)\n",
    "        sample = np.random.choice(list(strongly_connected_component), size =  N_sample, replace = False)\n",
    "          \n",
    "        suma = 0\n",
    "        i = 1\n",
    "        if nx.classes.function.is_weighted(G):\n",
    "            for initial, to_node in itertools.combinations(sample, 2):\n",
    "                i += 1\n",
    "                suma += nx.algorithms.shortest_paths.generic.shortest_path_length(G, initial, to_node, weight = 'weight')\n",
    "                \n",
    "            average_length = suma/(N_sample * (N_sample-1))\n",
    "\n",
    "\n",
    "\n",
    "        else:\n",
    "            \n",
    "            for initial, to_node in itertools.combinations(sample, 2):\n",
    "                suma += nx.algorithms.shortest_paths.generic.shortest_path_length(G, initial, to_node)\n",
    "            \n",
    "            average_length = suma/(N_sample * (N_sample-1))\n",
    "            \n",
    "        \n",
    "    else:\n",
    "        giant_connected_component = max(nx.connected_components(G), key=len)\n",
    "        sample = np.random.choice(list(giant_connected_component), size =  N_sample, replace = False)\n",
    "        \n",
    "        suma = 0\n",
    "        if nx.classes.function.is_weighted(G):\n",
    "            for initial, to_node in itertools.combinations(sample, 2):\n",
    "                suma += nx.algorithms.shortest_paths.generic.shortest_path_length(G, initial, to_node, weight = 'weight')\n",
    "                \n",
    "            average_lenht = 2 * suma/(N_sample * (N_sample-1))\n",
    "\n",
    "\n",
    "\n",
    "        else:\n",
    "            \n",
    "            for initial, to_node in itertools.combinations(sample, 2):\n",
    "                suma += nx.algorithms.shortest_paths.generic.shortest_path_length(G, initial, to_node)\n",
    "            \n",
    "            average_length = 2 * suma/(N_sample * (N_sample-1))\n",
    "            \n",
    "    return average_length"
   ]
  },
  {
   "cell_type": "code",
   "execution_count": 6,
   "metadata": {},
   "outputs": [
    {
     "data": {
      "text/plain": [
       "539"
      ]
     },
     "execution_count": 6,
     "metadata": {},
     "output_type": "execute_result"
    }
   ],
   "source": [
    "len(max(nx.connected_components(G_airports), key=len))"
   ]
  },
  {
   "cell_type": "code",
   "execution_count": 7,
   "metadata": {},
   "outputs": [
    {
     "data": {
      "text/plain": [
       "10537"
      ]
     },
     "execution_count": 7,
     "metadata": {},
     "output_type": "execute_result"
    }
   ],
   "source": [
    "len(max(nx.connected_components(G_fb), key=len))"
   ]
  },
  {
   "cell_type": "code",
   "execution_count": 8,
   "metadata": {},
   "outputs": [
    {
     "data": {
      "text/plain": [
       "1457"
      ]
     },
     "execution_count": 8,
     "metadata": {},
     "output_type": "execute_result"
    }
   ],
   "source": [
    "len(max(nx.strongly_connected_components(G_twitter), key=len))"
   ]
  },
  {
   "cell_type": "markdown",
   "metadata": {},
   "source": [
    "### NOTE: since in the airports graph the maximum component is 539, we prefered to use 500 instead of 1000"
   ]
  },
  {
   "cell_type": "code",
   "execution_count": 9,
   "metadata": {},
   "outputs": [],
   "source": [
    "avg_fb = average_path_length_sample(G_fb, 500)\n",
    "avg_airports = average_path_length_sample(G_airports, 500)\n",
    "avg_twitter = average_path_length_sample(G_twitter, 500)"
   ]
  },
  {
   "cell_type": "code",
   "execution_count": 10,
   "metadata": {},
   "outputs": [],
   "source": [
    "values_dict_task2 = {\n",
    "    'Facebook Northwester University': {'average path length': avg_fb},\n",
    "    'US air transportation': {'average path length': avg_airports}, \n",
    "    'Twitter USA Politics': {'average path length': avg_twitter}\n",
    "    \n",
    "}"
   ]
  },
  {
   "cell_type": "code",
   "execution_count": 11,
   "metadata": {},
   "outputs": [
    {
     "name": "stdout",
     "output_type": "stream",
     "text": [
      "|                                 |   average path length |\n",
      "|:--------------------------------|----------------------:|\n",
      "| Facebook Northwester University |               2.73556 |\n",
      "| US air transportation           |               3.19562 |\n",
      "| Twitter USA Politics            |               2.96554 |\n"
     ]
    }
   ],
   "source": [
    "df_2 = pd.DataFrame(values_dict_task2).T\n",
    "\n",
    "# displaying the DataFrame\n",
    "print(tabulate(df_2, headers = 'keys', tablefmt = 'pipe'))"
   ]
  },
  {
   "cell_type": "markdown",
   "metadata": {},
   "source": [
    "## Useful NetworkX Methods\n",
    "\n",
    "* [Reading and writing graphs](https://networkx.github.io/documentation/networkx-1.9/reference/readwrite.html). Check the ```read_edgelist``` method.\n",
    "* [Components](https://networkx.github.io/documentation/stable/reference/algorithms/component.html).\n",
    "\n",
    "## References\n",
    "[1] F. Mencszer, S. Fortunato, C. A. Davis (2020). A First Course in Network Science."
   ]
  },
  {
   "cell_type": "code",
   "execution_count": null,
   "metadata": {},
   "outputs": [],
   "source": []
  }
 ],
 "metadata": {
  "kernelspec": {
   "display_name": "Python 3",
   "language": "python",
   "name": "python3"
  },
  "language_info": {
   "codemirror_mode": {
    "name": "ipython",
    "version": 3
   },
   "file_extension": ".py",
   "mimetype": "text/x-python",
   "name": "python",
   "nbconvert_exporter": "python",
   "pygments_lexer": "ipython3",
   "version": "3.8.6"
  }
 },
 "nbformat": 4,
 "nbformat_minor": 4
}
