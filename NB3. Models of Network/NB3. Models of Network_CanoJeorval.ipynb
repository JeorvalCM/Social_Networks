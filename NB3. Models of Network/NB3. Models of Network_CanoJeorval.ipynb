{
 "cells": [
  {
   "cell_type": "markdown",
   "metadata": {},
   "source": [
    "# NB4. Models of Networks"
   ]
  },
  {
   "cell_type": "markdown",
   "metadata": {},
   "source": [
    "## A. Models of Networks.\n",
    "\n",
    "Consider the following [Graph Generators](https://networkx.github.io/documentation/stable/reference/generators.html):\n",
    "\n",
    "**Random Network Model**: The function ```erdos_renyi_graph(n,p)``` returns a $G_n,p$ random graph with the following parameters:\n",
    "* n - The number of nodes.\n",
    "* p - Probability fo edge creation.\n",
    "\n",
    "**Small World Model ** : The function ```watts_strogatz_graph(n,k,p)``` returns a small-world graph with the following parameters:\n",
    "* n - The number of nodes.\n",
    "* k - Each node is joined with its k nearest neighbors in a ring topology.\n",
    "* p - The probability of rewiring each edge."
   ]
  },
  {
   "cell_type": "markdown",
   "metadata": {},
   "source": [
    "### Task 1\n",
    "\n",
    "Simulate different networks using the Erdos-Renyi Model considering the following parameters:\n",
    "\n",
    "(a) N = 100, p = 0.20\n",
    "\n",
    "(b) N = 100, p = 0.40\n",
    "\n",
    "(c) N = 100, p = 0.60\n",
    "\n",
    "(d) N = 100, p = 0.80\n",
    "\n",
    "For each network plot its degree distribution. Additionally, make a comparative table including:\n",
    "* Number of links.\n",
    "* Expected number of links using the equation:\n",
    "$$ \\langle L \\rangle = p \\frac{N(N-1)}{2}$$\n",
    "* Average degree.\n",
    "* Expected average degrees using the equation:\n",
    "$$\\langle k \\rangle = p(N-1)$$\n",
    "* Density.\n",
    "* Expected density using the equation:\n",
    "$$\\langle d \\rangle = p$$\n",
    "* Average Shortest Path.\n",
    "* Expected Average Shortest Path using the equation:\n",
    "$$\\langle l \\rangle \\approx \\frac{ln(N)}{ln(\\langle k \\rangle)}$$"
   ]
  },
  {
   "cell_type": "code",
   "execution_count": 1,
   "metadata": {},
   "outputs": [],
   "source": [
    "import networkx as nx\n",
    "from collections import Counter\n",
    "import seaborn as sns\n",
    "import matplotlib.pyplot as plt\n",
    "import numpy as np\n",
    "from tabulate import tabulate\n",
    "import pandas as pd\n",
    "\n",
    "plt.rcParams[\"figure.figsize\"] = (10,10)"
   ]
  },
  {
   "cell_type": "code",
   "execution_count": 2,
   "metadata": {},
   "outputs": [
    {
     "data": {
      "image/png": "[encoded data removed]",
      "text/plain": [
       "<Figure size 720x720 with 4 Axes>"
      ]
     },
     "metadata": {
      "needs_background": "light"
     },
     "output_type": "display_data"
    }
   ],
   "source": [
    "n_list = [100] * 4\n",
    "p_list = [.2, .4, .6, .8]\n",
    "\n",
    "i = 0\n",
    "\n",
    "dict_to_frame = dict()\n",
    "\n",
    "for n, p in zip(n_list, p_list):\n",
    "    \n",
    "    ax = plt.subplot(2, 2, i + 1)\n",
    "    \n",
    "    random_model = nx.generators.random_graphs.erdos_renyi_graph(n = n, p = p) \n",
    "    \n",
    "    #getting the degrees of each node\n",
    "    values = [dgr[1] for dgr in random_model.degree()]\n",
    "    #counting the degrees\n",
    "    count = Counter(values)\n",
    "    \n",
    "    deg, cnt = zip(*count.items())\n",
    "    \n",
    "    ax.hist(x = values, edgecolor = 'black', color = 'blue')\n",
    "    ax.set_title('Distribution with p = %.1f' %p)\n",
    "    \n",
    "    i += 1\n",
    "\n",
    "    avg_d = sum(values)/len(values)\n",
    "        \n",
    "    dict_to_frame['P = {}'.format(p)] = {'# links': random_model.number_of_edges(), 'L Exp': p * (n * (n-1))/2,\n",
    "                                        'average degree': avg_d , 'Avg Exp': p * (n-1),\n",
    "                                        'Density': nx.classes.function.density(random_model), 'Den Exp': p,\n",
    "                                    'Avg shortest path': nx.algorithms.shortest_paths.generic.average_shortest_path_length(random_model),\n",
    "                                         'Avg shortest path exp': np.log(n)/np.log(avg_d)}"
   ]
  },
  {
   "cell_type": "code",
   "execution_count": 3,
   "metadata": {},
   "outputs": [
    {
     "name": "stdout",
     "output_type": "stream",
     "text": [
      "|         |   # links |   L Exp |   average degree |   Avg Exp |   Density |   Den Exp |   Avg shortest path |   Avg shortest path exp |\n",
      "|:--------|----------:|--------:|-----------------:|----------:|----------:|----------:|--------------------:|------------------------:|\n",
      "| P = 0.2 |      1023 |     990 |            20.46 |      19.8 |  0.206667 |       0.2 |             1.80566 |                 1.52566 |\n",
      "| P = 0.4 |      2004 |    1980 |            40.08 |      39.6 |  0.404848 |       0.4 |             1.59515 |                 1.24772 |\n",
      "| P = 0.6 |      2986 |    2970 |            59.72 |      59.4 |  0.603232 |       0.6 |             1.39677 |                 1.12605 |\n",
      "| P = 0.8 |      3958 |    3960 |            79.16 |      79.2 |  0.799596 |       0.8 |             1.2004  |                 1.05346 |\n"
     ]
    }
   ],
   "source": [
    "df = pd.DataFrame(dict_to_frame).T\n",
    "\n",
    "# displaying the DataFrame\n",
    "print(tabulate(df, headers = 'keys', tablefmt = 'pipe'))"
   ]
  },
  {
   "cell_type": "markdown",
   "metadata": {},
   "source": [
    "### Task 2\n",
    "\n",
    "Consider a the simulation of different random network with a fixed value of the number of nodes but different values of link probability. Naturally, at the beginig at p = 0, the system is totally fragmented into singletons. An increasing number of pairs of nodes will get connected, and through them connected subnetworks will be formed as the link probability increases. \n",
    "\n",
    "Erdos and Renyi discovered a transition point from configurations in which all subnetworks are relatively small, to a configuration where at least one of the subnetworks contains almost all the nodes. This transition can be observe in Fig. 1. \n",
    "\n",
    "\n",
    "\n",
    "\n",
    "<img src=\"Plot1.png\" width=\"360\"> </img>\n",
    "\n",
    "<center> Fig. 2</center>\n",
    "\n",
    "\n",
    "Don't forget that the probability and the expected degree $\\langle k \\rangle$  follow the relation:\n",
    "\n",
    "$$ \\langle L \\rangle = p \\frac{N(N-1)}{2}$$\n",
    "\n",
    "Fig. 1 is an sketch of the evoluation. Reproduce a similar plot for networks with 1000 nodes. Use 25 equally spaced values of the link probability, in the interval [0, 0.005]. For each value, generate 20 different networks, compute the relative size of the giant component. "
   ]
  },
  {
   "cell_type": "code",
   "execution_count": 4,
   "metadata": {},
   "outputs": [],
   "source": [
    "space_values = np.linspace(0,.005,25)\n",
    "\n",
    "model_avg  = []\n",
    "\n",
    "model_rel_size = []\n",
    "\n",
    "for space in space_values:\n",
    "    \n",
    "    avg_gen = 0\n",
    "    \n",
    "    relative_size = 0\n",
    "    \n",
    "    for _ in range(20):\n",
    "        \n",
    "        model = nx.generators.random_graphs.erdos_renyi_graph(n = 1000, p = space) \n",
    "        \n",
    "        values = [dgr[1] for dgr in model.degree()]\n",
    "        \n",
    "        avg_d = sum(values)/len(values)\n",
    "        \n",
    "        giant_connected_component = max(nx.connected_components(model), key=len)\n",
    "        \n",
    "        rel_size = len(giant_connected_component)/1000\n",
    "        \n",
    "        relative_size += rel_size\n",
    "        \n",
    "        avg_gen += avg_d\n",
    "        \n",
    "        \n",
    "    model_avg.append(avg_gen/20)\n",
    "    \n",
    "    model_rel_size.append(relative_size/20)"
   ]
  },
  {
   "cell_type": "code",
   "execution_count": 5,
   "metadata": {},
   "outputs": [
    {
     "data": {
      "image/png": "[encoded data removed]",
      "text/plain": [
       "<Figure size 720x720 with 1 Axes>"
      ]
     },
     "metadata": {
      "needs_background": "light"
     },
     "output_type": "display_data"
    }
   ],
   "source": [
    "plt.plot( model_avg, space_values, color = 'b')\n",
    "plt.scatter(model_avg, space_values, color = 'black')\n",
    "plt.xlabel('<k>')\n",
    "plt.ylabel('P')\n",
    "plt.title('average <k> according to p')\n",
    "plt.show()"
   ]
  },
  {
   "cell_type": "code",
   "execution_count": 6,
   "metadata": {},
   "outputs": [
    {
     "data": {
      "image/png": "[encoded data removed]",
      "text/plain": [
       "<Figure size 720x720 with 1 Axes>"
      ]
     },
     "metadata": {
      "needs_background": "light"
     },
     "output_type": "display_data"
    }
   ],
   "source": [
    "plt.plot( model_rel_size, space_values, color = 'b')\n",
    "plt.scatter(model_rel_size, space_values, color = 'black')\n",
    "plt.xlabel('Relative size of the giant component')\n",
    "plt.ylabel('P')\n",
    "plt.title('Relative size of the giant component due to P')\n",
    "plt.show()"
   ]
  },
  {
   "cell_type": "markdown",
   "metadata": {},
   "source": [
    "### Conclusion:\n",
    "It seems that when it reachs p = .005 the giant component consist of all the nodes or almost all the nodes"
   ]
  },
  {
   "cell_type": "markdown",
   "metadata": {},
   "source": [
    "### Task 3\n",
    "In the Watts-Strogratz Model, there is range of rewiring probability values between p = 0.01 and p = 0.1 in the average shortest-path length is close to that of an equivalent random network; and at the same time, the clustering coefficient from the model is high. Nevertheless, the model cannot generate hubs. Fig. 2 presents the average path length and the clustering coefficient as a function of the rewiring probability. Observe that the x-axis is in a logarithmic scale.\n",
    "\n",
    "\n",
    "<img src=\"Plot2.png\" width=\"360\"> </img>\n",
    "\n",
    "<center> Fig. 2</center>\n",
    "\n",
    "\n",
    "Reproduce a similar plot, by calculating:\n",
    "* the average shortest path ($\\langle l \\rangle$)\n",
    "* and the average clustering coefficient ($C$)\n",
    "\n",
    "for Watts–Strogatz networks constructed for different values of the rewiring probability p. Take 20 equally spaced values of p between 0 and 1. For each value of p, build 20 different networks and compute the average shortest path and average clustering coefficient. To plot the two curves on a common y-axis, you can normalize the values by dividing them by the corresponding values for the probability p = 0."
   ]
  },
  {
   "cell_type": "code",
   "execution_count": 7,
   "metadata": {},
   "outputs": [],
   "source": [
    "p_values = np.linspace(0,1,20)\n",
    "\n",
    "watts_avg = []\n",
    "watts_cc = []\n",
    "\n",
    "for p in p_values:\n",
    "    \n",
    "    avg_sum = 0\n",
    "    \n",
    "    cc_sum = 0\n",
    "    \n",
    "    for _ in range(20):\n",
    "        \n",
    "        model = nx.generators.random_graphs.watts_strogatz_graph(p = p, n = 1000, k = 4)\n",
    "        \n",
    "        avg_model = nx.algorithms.shortest_paths.generic.average_shortest_path_length(model)\n",
    "        \n",
    "        cc_model = nx.algorithms.cluster.average_clustering(model)\n",
    "        \n",
    "        avg_sum += avg_model\n",
    "        \n",
    "        cc_sum += cc_model\n",
    "        \n",
    "    watts_avg.append(avg_sum/20)\n",
    "    watts_cc.append(cc_sum/20)\n",
    "        "
   ]
  },
  {
   "cell_type": "code",
   "execution_count": 8,
   "metadata": {},
   "outputs": [],
   "source": [
    "#transforming into a numpy array to then normalize by dividing by average path length and cluster coefficient of p= 0\n",
    "watts_avg = np.array(watts_avg)/watts_avg[0]\n",
    "watts_cc = np.array(watts_cc)/watts_cc[0]"
   ]
  },
  {
   "cell_type": "code",
   "execution_count": 9,
   "metadata": {},
   "outputs": [
    {
     "data": {
      "image/png": "[encoded data removed]",
      "text/plain": [
       "<Figure size 720x720 with 1 Axes>"
      ]
     },
     "metadata": {
      "needs_background": "light"
     },
     "output_type": "display_data"
    }
   ],
   "source": [
    "plt.scatter(p_values, watts_avg, color = 'purple', label = 'Average path length')\n",
    "plt.scatter(p_values, watts_cc, color = 'green', label = 'Cluester coefficient')\n",
    "plt.legend()\n",
    "plt.xlabel('p')\n",
    "plt.show()"
   ]
  },
  {
   "cell_type": "markdown",
   "metadata": {},
   "source": [
    "## B. Identification of Network Models [40 pts]\n",
    "\n",
    "### Task 4\n",
    "Analyze each of the 4 Networks and determine which of the three models was used to generate them:\n",
    "* model1.csv\n",
    "* model2.csv\n",
    "* model3.csv\n",
    "* model4.csv\n",
    "\n",
    "Justify your selection in each case."
   ]
  },
  {
   "cell_type": "markdown",
   "metadata": {},
   "source": [
    "## Model 1"
   ]
  },
  {
   "cell_type": "code",
   "execution_count": 10,
   "metadata": {},
   "outputs": [],
   "source": [
    "# Analysis of model1.csv (10 pts)\n",
    "csv = pd.read_csv('model1.csv', header = None)\n",
    "model1 = nx.DiGraph(csv.values)"
   ]
  },
  {
   "cell_type": "code",
   "execution_count": 11,
   "metadata": {},
   "outputs": [
    {
     "data": {
      "text/plain": [
       "array([2., 1., 2., 2., 2., 2., 2., 2., 2., 2., 2., 2., 1., 2., 3., 2., 2.,\n",
       "       2., 2., 3., 2., 1., 2., 2., 2., 2., 2., 2., 2., 2., 2., 3., 2., 2.,\n",
       "       2., 2., 2., 2., 2., 2., 2., 2., 2., 2., 2., 2., 2., 2., 2., 2., 2.,\n",
       "       2., 2., 2., 1., 3., 2., 2., 2., 2., 2., 2., 1., 2., 2., 3., 2., 1.,\n",
       "       2., 2., 2., 2., 2., 1., 2., 2., 2., 2., 2., 2., 3., 2., 2., 1., 2.,\n",
       "       2., 2., 2., 2., 2., 2., 2., 1., 2., 2., 2., 4., 3., 2., 2.])"
      ]
     },
     "execution_count": 11,
     "metadata": {},
     "output_type": "execute_result"
    }
   ],
   "source": [
    "np.sum(np.array(csv.values), axis = 1)"
   ]
  },
  {
   "cell_type": "code",
   "execution_count": 12,
   "metadata": {},
   "outputs": [
    {
     "data": {
      "text/plain": [
       "Counter({2: 83, 1: 9, 3: 7, 4: 1})"
      ]
     },
     "execution_count": 12,
     "metadata": {},
     "output_type": "execute_result"
    }
   ],
   "source": [
    "values1 = [dgr[1] for dgr in model1.in_degree()]\n",
    "Counter(values1)"
   ]
  },
  {
   "cell_type": "code",
   "execution_count": 13,
   "metadata": {},
   "outputs": [
    {
     "data": {
      "image/png": "[encoded data removed]",
      "text/plain": [
       "<Figure size 720x720 with 1 Axes>"
      ]
     },
     "metadata": {
      "needs_background": "light"
     },
     "output_type": "display_data"
    }
   ],
   "source": [
    "plt.hist(values1, bins = 4, color = 'blue', edgecolor = 'black')\n",
    "plt.xlabel('Degree')\n",
    "plt.title('Model 1 degree distribution')\n",
    "plt.show()"
   ]
  },
  {
   "cell_type": "markdown",
   "metadata": {},
   "source": [
    "### Answer:\n",
    "It cannot be a Watt-Strogatz model because the nodes do not have the same number of neihgbors. Therefore, discarding that, we need to choose between the random model and Barabási, and Albert.\n",
    "We reached the conclusion that this network is made using the random model, since it might not be easy to see, but we believe it's a poisson distribution, a characteristic of random model when <k\\> << N (something that occurs here). How do we know is a possion distribution? Simple, it has the poisson shape and also we remembered that in a poisson distribution, most nodes have the same number of links, and finally, we noticed that in random models generated with a really low p this tends to happen."
   ]
  },
  {
   "cell_type": "markdown",
   "metadata": {},
   "source": [
    "## Model 2"
   ]
  },
  {
   "cell_type": "code",
   "execution_count": 14,
   "metadata": {},
   "outputs": [],
   "source": [
    "# Analysis of model2.csv (10 pts)\n",
    "csv = pd.read_csv('model2.csv', header = None)\n",
    "model2 = nx.DiGraph(csv.values)"
   ]
  },
  {
   "cell_type": "code",
   "execution_count": 15,
   "metadata": {},
   "outputs": [
    {
     "data": {
      "text/plain": [
       "Counter({10: 4,\n",
       "         18: 5,\n",
       "         13: 11,\n",
       "         8: 3,\n",
       "         22: 1,\n",
       "         14: 12,\n",
       "         11: 6,\n",
       "         15: 18,\n",
       "         19: 6,\n",
       "         12: 12,\n",
       "         16: 6,\n",
       "         17: 3,\n",
       "         21: 5,\n",
       "         9: 2,\n",
       "         25: 1,\n",
       "         20: 5})"
      ]
     },
     "execution_count": 15,
     "metadata": {},
     "output_type": "execute_result"
    }
   ],
   "source": [
    "values2 = [dgr[1] for dgr in model2.in_degree()]\n",
    "Counter(values2)"
   ]
  },
  {
   "cell_type": "code",
   "execution_count": 16,
   "metadata": {},
   "outputs": [
    {
     "data": {
      "image/png": "[encoded data removed]",
      "text/plain": [
       "<Figure size 720x720 with 1 Axes>"
      ]
     },
     "metadata": {
      "needs_background": "light"
     },
     "output_type": "display_data"
    }
   ],
   "source": [
    "plt.hist(values2, bins = 15, color = 'blue', edgecolor = 'black')\n",
    "plt.xlabel('Degree')\n",
    "plt.title('Model 2 degree distribution')\n",
    "plt.show()"
   ]
  },
  {
   "cell_type": "markdown",
   "metadata": {},
   "source": [
    "### Answer:\n",
    "We know it cannot be a Watt-Strogatz model since the nodes do not have the same number of neighbors. Now we have to decide among the random model and Barabási, and Albert.\n",
    "We concluded this model was made using the random model because as you can notice the distribution of the degree is binomial, and the random model follows said distribution."
   ]
  },
  {
   "cell_type": "markdown",
   "metadata": {},
   "source": [
    "## Model 3"
   ]
  },
  {
   "cell_type": "code",
   "execution_count": 17,
   "metadata": {},
   "outputs": [],
   "source": [
    "# Analysis of model3.csv (10 pts)\n",
    "csv = pd.read_csv('model3.csv', header = None)\n",
    "model3 = nx.DiGraph(csv.values)"
   ]
  },
  {
   "cell_type": "code",
   "execution_count": 18,
   "metadata": {},
   "outputs": [
    {
     "data": {
      "text/plain": [
       "Counter({13: 4,\n",
       "         15: 6,\n",
       "         17: 8,\n",
       "         8: 1,\n",
       "         14: 5,\n",
       "         16: 4,\n",
       "         18: 4,\n",
       "         12: 3,\n",
       "         20: 2,\n",
       "         19: 2,\n",
       "         11: 1,\n",
       "         59: 1,\n",
       "         58: 1,\n",
       "         57: 1,\n",
       "         55: 1,\n",
       "         54: 2,\n",
       "         52: 2,\n",
       "         51: 1,\n",
       "         49: 2,\n",
       "         48: 1,\n",
       "         46: 1,\n",
       "         45: 2,\n",
       "         43: 2,\n",
       "         42: 1,\n",
       "         41: 1,\n",
       "         40: 1})"
      ]
     },
     "execution_count": 18,
     "metadata": {},
     "output_type": "execute_result"
    }
   ],
   "source": [
    "values3 = [dgr[1] for dgr in model3.in_degree()]\n",
    "Counter(values3)"
   ]
  },
  {
   "cell_type": "code",
   "execution_count": 19,
   "metadata": {},
   "outputs": [
    {
     "data": {
      "image/png": "[encoded data removed]",
      "text/plain": [
       "<Figure size 720x720 with 1 Axes>"
      ]
     },
     "metadata": {
      "needs_background": "light"
     },
     "output_type": "display_data"
    }
   ],
   "source": [
    "plt.hist(values3, bins = 15, color = 'blue', edgecolor = 'black')\n",
    "plt.xlabel('Degree')\n",
    "plt.title('Model 3 degree distribution')\n",
    "plt.show()"
   ]
  },
  {
   "cell_type": "markdown",
   "metadata": {},
   "source": [
    "### Answer:\n",
    "By discarding it cannot be a Watt-Strogatz model since the nodes do not have the same number of neighbors.\n",
    "We concluded is a Barabási, and Albert model because it has a characteristic that a random model does not have and is the Hubs. A hub is basically a node that has a really high degree, and as you can notice in this network there are a few nodes that are hubs and also another characteristic that helped us to conclude is a Barabási, and Albert model is that in Power Law, besides the rule of few hubs there is also the rule of many nodes with few links, something you can see at the beginning of the distribution chart. Furthermore, hubs are forbidden in random models so it is imposible for this network to be a random model."
   ]
  },
  {
   "cell_type": "markdown",
   "metadata": {},
   "source": [
    "## Model 4"
   ]
  },
  {
   "cell_type": "code",
   "execution_count": 20,
   "metadata": {},
   "outputs": [],
   "source": [
    "# Analysis of model4.csv (10 pts)\n",
    "csv = pd.read_csv('model4.csv', header = None)\n",
    "model4 = nx.DiGraph(csv.values)"
   ]
  },
  {
   "cell_type": "code",
   "execution_count": 21,
   "metadata": {},
   "outputs": [
    {
     "data": {
      "text/plain": [
       "Counter({2: 100})"
      ]
     },
     "execution_count": 21,
     "metadata": {},
     "output_type": "execute_result"
    }
   ],
   "source": [
    "values4 = [dgr[1] for dgr in model4.in_degree()]\n",
    "Counter(values4)"
   ]
  },
  {
   "cell_type": "markdown",
   "metadata": {},
   "source": [
    "#### Answer:\n",
    "The model is the Watt-Strogatz model, and the reason is quite simple is because this model meets the requirement of Watt-Strogatz and is that all the nodes have to have the same number of neighbors, something that does not happen in the other models, and as you can see in the Counter all the one hundred nodes have 2 neighbors."
   ]
  },
  {
   "cell_type": "markdown",
   "metadata": {},
   "source": [
    "## References\n",
    "[1] F. Mencszer, S. Fortunato, C. A. Davis (2020). A First Course in Network Science."
   ]
  }
 ],
 "metadata": {
  "kernelspec": {
   "display_name": "Python 3",
   "language": "python",
   "name": "python3"
  },
  "language_info": {
   "codemirror_mode": {
    "name": "ipython",
    "version": 3
   },
   "file_extension": ".py",
   "mimetype": "text/x-python",
   "name": "python",
   "nbconvert_exporter": "python",
   "pygments_lexer": "ipython3",
   "version": "3.8.6"
  }
 },
 "nbformat": 4,
 "nbformat_minor": 4
}
