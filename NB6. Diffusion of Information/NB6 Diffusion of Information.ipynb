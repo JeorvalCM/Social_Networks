{
 "cells": [
  {
   "cell_type": "markdown",
   "metadata": {},
   "source": [
    "## Team Lunita:\n",
    "\n",
    "* Cano Jeorval\n",
    "* Cuevas Danilo\n",
    "* Erosa Jorge\n",
    "* Hernandez Andrés\n",
    "* Robles Jack"
   ]
  },
  {
   "cell_type": "markdown",
   "metadata": {},
   "source": [
    "# L2.2 Diffusion of Innovations\n",
    "\n",
    "The Bass Model developed by Frank Bass (1969) describes the process of diffusion of innovations. It is a classical mathematical model in marketing literature.\n",
    "\n",
    "Consider that $A(t)$ denotes the total population that adopted an innovation until time $t$- The total of potential adopters is denoted as $P$. According to this model, the adoption rate at which the number of adopters changes throughout time depends on how innovative is the product being adopted.\n",
    "\n",
    "$$\n",
    "\\frac{dA(t)}{dt} = i(t) [P-A(t)]\n",
    "$$\n",
    "\n",
    "where $i(t)$ denotes the coefficient of diffusion, which describes the innovativeness of the product being adopted. There are various methods of defining the diffusion coefficient. In particular, the following three models for computing $i(t)$ are going to be considered:\n",
    "* External-Influence Model\n",
    "$$\n",
    "i(t) = \\alpha\n",
    "$$\n",
    "\n",
    "* Internal-Influence Model\n",
    "$$\n",
    "i(t) = \\beta A(t)\n",
    "$$\n",
    "\n",
    "* Mixed-Influence Model\n",
    "$$\n",
    "i(t) = \\alpha + \\beta A(t)\n",
    "$$\n",
    "where $\\alpha$ is the external-influence factor and $\\beta$ is the internal-influence factor or imitation factor.\n",
    "\n",
    "## 1. Solving Ordinary Differential Equations\n",
    "\n",
    "An equation which contains the derivate(s) of a yet to be determined function $y(x)$ is called an ordinary differential equation (ODE).\n",
    "\n",
    "The SciPy Library [[1](https://docs.scipy.org/doc/scipy/reference/integrate.html)] includes different methods to solves ODE's in python: ```ode``` and ```odeint```.\n",
    "\n",
    "## 1.1 Newton's Law of Cooling\n",
    "\n",
    "The Newton's Law of Cooling states that the rate of change of temperature T is proportional to temperature difference with the enviroment ($T_{amb}$). An extensive description of this phenomena can be found here [[2](https://www.khanacademy.org/math/differential-equations/first-order-differential-equations/exponential-models-diff-eq/v/newtons-law-of-cooling)].\n",
    "$$\n",
    "\\frac{dT}{dt} = - k (T-T_{amb})\n",
    "$$\n",
    "\n",
    "where k is the cooling coefficient. \n",
    "The ```odeint``` method can be used this ODE. ```odeint``` requires three inputs:\n",
    "```python\n",
    "scipy.integrate.odeint(func, y0, t)\n",
    "                       \n",
    "```\n",
    "* func: Function that return derivative values at y and t.\n",
    "* y0: Initial conditions on y.\n",
    "* t: A sequence of time points for which to solve for y.\n",
    "\n",
    "Consider a cup of coffee at 95 $^\\circ$C in a room where the temperature is 20 $^\\circ$C. If the cooling coefficient is $k = 1/50$ min$^{-1}$."
   ]
  },
  {
   "cell_type": "code",
   "execution_count": 1,
   "metadata": {},
   "outputs": [],
   "source": [
    "import numpy as np\n",
    "from scipy.integrate import odeint\n",
    "import matplotlib.pyplot as plt"
   ]
  },
  {
   "cell_type": "code",
   "execution_count": 2,
   "metadata": {},
   "outputs": [],
   "source": [
    "def fun(T, t, k, Tamb):\n",
    "    dTdt = - k * (T - Tamb)\n",
    "    return dTdt"
   ]
  },
  {
   "cell_type": "code",
   "execution_count": 3,
   "metadata": {},
   "outputs": [],
   "source": [
    "T0 = 95\n",
    "k = 1/50\n",
    "Tamb = 20\n",
    "t = np.linspace(0,60)"
   ]
  },
  {
   "cell_type": "code",
   "execution_count": 4,
   "metadata": {},
   "outputs": [],
   "source": [
    "T = odeint(fun, T0, t, args = (k, Tamb))"
   ]
  },
  {
   "cell_type": "markdown",
   "metadata": {},
   "source": [
    "The analytical solution of the problem can be obtained by direct integration:\n",
    "$$\n",
    "T(t) = (T(0) - T_{amb}) e^{-kt} + T_{amb}\n",
    "$$"
   ]
  },
  {
   "cell_type": "code",
   "execution_count": 5,
   "metadata": {},
   "outputs": [],
   "source": [
    "def yAnalytical(T0, Tamb, k, t):\n",
    "    return (T0-Tamb)*np.exp(-k*t)+Tamb"
   ]
  },
  {
   "cell_type": "markdown",
   "metadata": {},
   "source": [
    "The numerical and the analytical solution are presented in the following plot."
   ]
  },
  {
   "cell_type": "code",
   "execution_count": 6,
   "metadata": {},
   "outputs": [
    {
     "data": {
      "image/png": "[encoded data removed]",
      "text/plain": [
       "<Figure size 432x288 with 1 Axes>"
      ]
     },
     "metadata": {
      "needs_background": "light"
     },
     "output_type": "display_data"
    }
   ],
   "source": [
    "plt.plot(t, T, '.', label = 'Numerical Solution')\n",
    "plt.plot(t, yAnalytical(T0, Tamb, k, t), '-', label = 'Analytical Solution')\n",
    "plt.legend()\n",
    "plt.xlabel('t')\n",
    "plt.ylabel('Temperature T(t)')\n",
    "plt.show()"
   ]
  },
  {
   "cell_type": "markdown",
   "metadata": {},
   "source": [
    "## 1.2 External-Influence Model\n",
    "\n",
    "In the external-influence model, the adoption coefficeint only depends on an external factor. One example of external influence in social media is when important news goes viral.\n",
    "\n",
    "The external-influence model can be formulated as,\n",
    "$$\n",
    "\\frac{dA(t)}{dt} = \\alpha[P-A(t)]\n",
    "$$\n",
    "\n",
    "The analytical solution when A(0) = 0 is:\n",
    "$$\n",
    "A(t) = P(1-e^{-\\alpha t})\n",
    "$$\n",
    "\n",
    "Considering a population P = 100 and $\\alpha$ = 0.01, obtain the cumulative population over the time (numerical and analytical solution)."
   ]
  },
  {
   "cell_type": "code",
   "execution_count": 7,
   "metadata": {},
   "outputs": [],
   "source": [
    "def fun(T, t, P, alpha):\n",
    "    dTdt = alpha * (P - T)\n",
    "    return dTdt"
   ]
  },
  {
   "cell_type": "code",
   "execution_count": 8,
   "metadata": {},
   "outputs": [],
   "source": [
    "P = 100\n",
    "alpha = .01\n",
    "t = np.linspace(0,300)\n",
    "A_0 = 0"
   ]
  },
  {
   "cell_type": "code",
   "execution_count": 9,
   "metadata": {},
   "outputs": [],
   "source": [
    "T = odeint(fun, A_0, t, args = (P ,alpha))"
   ]
  },
  {
   "cell_type": "markdown",
   "metadata": {},
   "source": [
    "## Analytical Solution"
   ]
  },
  {
   "cell_type": "code",
   "execution_count": 10,
   "metadata": {},
   "outputs": [],
   "source": [
    "def yAnalytical(P, alpha, t):\n",
    "    return P * (1 - np.exp(-alpha * t))"
   ]
  },
  {
   "cell_type": "code",
   "execution_count": 11,
   "metadata": {},
   "outputs": [
    {
     "data": {
      "text/plain": [
       "array([ 0.        ,  5.93879417, 11.52489558, 16.77924993, 21.72155899,\n",
       "       26.37035448, 30.74306758, 34.85609425, 38.72485673, 42.36386136,\n",
       "       45.78675301, 49.00636616, 52.03477312, 54.88332922, 57.56271543,\n",
       "       60.08297842, 62.45356817, 64.68337347, 66.78075523, 68.75357781,\n",
       "       70.60923851, 72.35469534, 73.99649308, 75.54078783, 76.9933701 ,\n",
       "       78.3596865 , 79.64486017, 80.85371003, 81.99076879, 83.06029996,\n",
       "       84.06631388, 85.0125827 , 85.90265457, 86.7398669 , 87.52735891,\n",
       "       88.26808339, 88.96481777, 89.62017453, 90.236611  , 90.81643858,\n",
       "       91.36183139, 91.87483444, 92.3573713 , 92.81125129, 93.23817628,\n",
       "       93.63974707, 94.0174694 , 94.37275958, 94.70694981, 95.02129316])"
      ]
     },
     "execution_count": 11,
     "metadata": {},
     "output_type": "execute_result"
    }
   ],
   "source": [
    "yAnalytical(P, alpha, t)"
   ]
  },
  {
   "cell_type": "code",
   "execution_count": 12,
   "metadata": {},
   "outputs": [
    {
     "data": {
      "image/png": "[encoded data removed]",
      "text/plain": [
       "<Figure size 432x288 with 1 Axes>"
      ]
     },
     "metadata": {
      "needs_background": "light"
     },
     "output_type": "display_data"
    }
   ],
   "source": [
    "plt.plot(t, T, '.', label = 'Numerical Solution')\n",
    "plt.plot(t, yAnalytical(P, alpha, t), '-', label = 'Analytical Solution')\n",
    "plt.legend()\n",
    "plt.xlabel('t')\n",
    "plt.ylabel('A(t)')\n",
    "plt.ylim([0,100])\n",
    "plt.show()"
   ]
  },
  {
   "cell_type": "markdown",
   "metadata": {},
   "source": [
    "## Internal-Influence Model\n",
    "\n",
    "In the internal-influence model, adoption depends on how many have adopted the innovation in the current time step. The internal model can be described as follows:\n",
    "$$\n",
    "\\frac{dA(t)}{dt} = \\beta A(t) [P - A(t)]\n",
    "$$\n",
    "This model is called a pure imitation model because the diffusion rate depends only on $\\beta A(t)$.\n",
    "\n",
    "The analytical solution of the model is:\n",
    "$$\n",
    "A(t) = \\frac{P}{1+\\frac{P-A_0}{A_0}e^{-\\beta P(t-t0)}}\n",
    "$$\n",
    "where $A(t_0) = A_0$,\n",
    "\n",
    "Considering a population P = 200, $\\beta = 10^{-5}$ and $A_0 = 30$, obtain the cumulative population over the time (numerical and analytical solution)."
   ]
  },
  {
   "cell_type": "code",
   "execution_count": 13,
   "metadata": {},
   "outputs": [],
   "source": [
    "def fun(T, t, P, beta):\n",
    "    dTdt = beta * T *(P - T)\n",
    "    return dTdt"
   ]
  },
  {
   "cell_type": "code",
   "execution_count": 14,
   "metadata": {},
   "outputs": [],
   "source": [
    "P = 200\n",
    "beta = 1/np.power(10, 5)\n",
    "A_0 = 30\n",
    "t = np.linspace(0,3000)"
   ]
  },
  {
   "cell_type": "code",
   "execution_count": 15,
   "metadata": {},
   "outputs": [],
   "source": [
    "T = odeint(fun, A_0, t, args = (P ,beta))"
   ]
  },
  {
   "cell_type": "markdown",
   "metadata": {},
   "source": [
    "## Analytical solution"
   ]
  },
  {
   "cell_type": "code",
   "execution_count": 16,
   "metadata": {},
   "outputs": [],
   "source": [
    "def yAnalytical(A_0, P, beta, t, t0 = 0):\n",
    "    return P / (1 + (((P - A_0)/A_0) * np.exp(-beta * P * (t - t0))))"
   ]
  },
  {
   "cell_type": "code",
   "execution_count": 17,
   "metadata": {},
   "outputs": [
    {
     "data": {
      "image/png": "[encoded data removed]",
      "text/plain": [
       "<Figure size 432x288 with 1 Axes>"
      ]
     },
     "metadata": {
      "needs_background": "light"
     },
     "output_type": "display_data"
    }
   ],
   "source": [
    "plt.plot(t, T, '.', label = 'Numerical Solution')\n",
    "plt.plot(t, yAnalytical(A_0, P, beta, t, 0), '-', label = 'Analytical Solution')\n",
    "plt.legend()\n",
    "plt.xlabel('t')\n",
    "plt.ylabel('A(t)')\n",
    "plt.show()"
   ]
  },
  {
   "cell_type": "markdown",
   "metadata": {},
   "source": [
    "## Mixed-Influence Model\n",
    "\n",
    "The mixed-influence model is situated in between the internal- and external-influece models. The mixed-influence model can be described as follows:\n",
    "$$\n",
    "\\frac{dA(t)}{dt} = (\\alpha + \\beta A(t)) [P - A(t)]\n",
    "$$\n",
    "This model is called a pure imitation model because the diffusion rate depends only on $\\beta A(t)$.\n",
    "\n",
    "The analytical solution of the model is:\n",
    "$$\n",
    "A(t) = \\frac{P - \\frac{\\alpha(P-A_0)}{\\alpha + \\beta A_0} e^{-(\\alpha + \\beta P)(t-t_0)}}{1 + \\frac{\\beta(P-A_0)}{\\alpha + \\beta A_0} e^{-(\\alpha + \\beta P)(t-t_0)}}\n",
    "$$\n",
    "where $A(t_0) = A_0$,\n",
    "\n",
    "Considering a population P = 200, $\\alpha = 10^{-3}$, $\\beta = 10^{-5}$ and $A_0 = 30$, the cumulative population over the time can be obtained as follows (numerical and analytical solution)."
   ]
  },
  {
   "cell_type": "code",
   "execution_count": 18,
   "metadata": {},
   "outputs": [],
   "source": [
    "def fun(T, t, P, alpha, beta):\n",
    "    dTdt = (alpha + beta * T) * (P - T)\n",
    "    return dTdt"
   ]
  },
  {
   "cell_type": "code",
   "execution_count": 19,
   "metadata": {},
   "outputs": [],
   "source": [
    "P = 200\n",
    "beta = 1/np.power(10, 5)\n",
    "alpha = 1/np.power(10, 3)\n",
    "A_0 = 30\n",
    "t = np.linspace(0,3000)"
   ]
  },
  {
   "cell_type": "code",
   "execution_count": 20,
   "metadata": {},
   "outputs": [],
   "source": [
    "T = odeint(fun, A_0, t, args = (P, alpha, beta))"
   ]
  },
  {
   "cell_type": "markdown",
   "metadata": {},
   "source": [
    "## Analytical Solution"
   ]
  },
  {
   "cell_type": "code",
   "execution_count": 21,
   "metadata": {},
   "outputs": [],
   "source": [
    "def yAnalytical(A_0, P, alpha, beta, t, t0 = 0):\n",
    "    \n",
    "    numerator = P - (alpha * (P - A_0))/(alpha + beta * A_0) * np.exp(- (alpha + beta*P)*(t - t0))\n",
    "    \n",
    "    denominator = 1 + (beta * (P - A_0))/(alpha + beta * A_0) * np.exp(- (alpha + beta*P)*(t - t0))\n",
    "    \n",
    "    return numerator / denominator"
   ]
  },
  {
   "cell_type": "code",
   "execution_count": 22,
   "metadata": {},
   "outputs": [
    {
     "data": {
      "image/png": "[encoded data removed]",
      "text/plain": [
       "<Figure size 432x288 with 1 Axes>"
      ]
     },
     "metadata": {
      "needs_background": "light"
     },
     "output_type": "display_data"
    }
   ],
   "source": [
    "plt.plot(t, T, '.', label = 'Numerical Solution')\n",
    "plt.plot(t, yAnalytical(A_0, P, alpha, beta, t, 0), '-', label = 'Analytical Solution')\n",
    "plt.legend()\n",
    "plt.xlabel('t')\n",
    "plt.ylabel('A(t)')\n",
    "plt.show()"
   ]
  },
  {
   "cell_type": "markdown",
   "metadata": {},
   "source": [
    "## References\n",
    "\n",
    "This notebook is based on:\n",
    "\n",
    "[1]  Reza Zafarani, Mohammad Ali Abbasi, Huan Liu (2014) Social Media Mining: An Introduction. UK."
   ]
  }
 ],
 "metadata": {
  "kernelspec": {
   "display_name": "Python 3",
   "language": "python",
   "name": "python3"
  },
  "language_info": {
   "codemirror_mode": {
    "name": "ipython",
    "version": 3
   },
   "file_extension": ".py",
   "mimetype": "text/x-python",
   "name": "python",
   "nbconvert_exporter": "python",
   "pygments_lexer": "ipython3",
   "version": "3.8.6"
  }
 },
 "nbformat": 4,
 "nbformat_minor": 4
}
